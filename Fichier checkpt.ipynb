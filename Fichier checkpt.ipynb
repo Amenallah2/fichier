{
 "cells": [
  {
   "cell_type": "code",
   "execution_count": 1,
   "id": "e0718411",
   "metadata": {},
   "outputs": [
    {
     "data": {
      "text/plain": [
       "'What is Python language?                                                \\nPython is a widely used high-level, general-purpose, interpreted, dynamic programming language.Its design philosophy emphasizes code readability, and its syntax allows programmers to express concepts in fewer lines of code than possible in \\nlanguages such as C++ or Java. \\nPython supports multiple programming paradigms, including object-oriented, imperative and functional programming or procedural styles. It features a dynamic type system and automatic memory management and has a large and comprehensive standard library.The best way we learn anything is by practice and exercise questions. We  have started this section for those (beginner to intermediate) who are familiar with Python.\\n'"
      ]
     },
     "execution_count": 1,
     "metadata": {},
     "output_type": "execute_result"
    }
   ],
   "source": [
    "#1. Write a Python program to read an entire text file.\n",
    "#2. Write a Python program to read first n lines of a file.\n",
    "#3. Write a Python program to read last n lines of a file\n",
    "#4. Write a Python program that takes a text file as input \n",
    "#and returns the number of words of a given text file.\n",
    "#5. (bonus) Write a Python program to read last n lines of a file\n",
    "f = open(\"python.txt\",'r')\n",
    "f.read()\n"
   ]
  },
  {
   "cell_type": "code",
   "execution_count": 8,
   "id": "c4d497fc",
   "metadata": {},
   "outputs": [
    {
     "name": "stdout",
     "output_type": "stream",
     "text": [
      "1\n",
      "['What is Python language?                                                \\n']\n"
     ]
    }
   ],
   "source": [
    "f = open(\"python.txt\",'r')\n",
    "n=int(input())\n",
    "line=f.readlines(n)\n",
    "print(line)\n",
    "\n"
   ]
  },
  {
   "cell_type": "code",
   "execution_count": 5,
   "id": "f812d025",
   "metadata": {},
   "outputs": [
    {
     "name": "stdout",
     "output_type": "stream",
     "text": [
      "['Python supports multiple programming paradigms, including object-oriented, imperative and functional programming or procedural styles. It features a dynamic type system and automatic memory management and has a large and comprehensive standard library.The best way we learn anything is by practice and exercise questions. We  have started this section for those (beginner to intermediate) who are familiar with Python.\\n']\n"
     ]
    }
   ],
   "source": [
    "f = open(\"python.txt\",'r')\n",
    "lines = f.readlines()\n",
    "last_lines = lines[-n:]\n",
    "\n",
    "print(last_lines)"
   ]
  },
  {
   "cell_type": "code",
   "execution_count": 4,
   "id": "b06c1267",
   "metadata": {},
   "outputs": [],
   "source": [
    "f2=open('python.txt','w')"
   ]
  },
  {
   "cell_type": "code",
   "execution_count": 5,
   "id": "29223dc9",
   "metadata": {},
   "outputs": [
    {
     "name": "stdout",
     "output_type": "stream",
     "text": [
      "0\n"
     ]
    }
   ],
   "source": [
    "f = open(\"python.txt\",'r+')\n",
    "number_of_lines = 0\n",
    "number_of_words = 0\n",
    "\n",
    "for line in f:\n",
    "    line = line.strip(\"\\n\")\n",
    "    words = line.split()\n",
    "    number_of_words += len(words)\n",
    " \n",
    "\n",
    "print(number_of_words)"
   ]
  },
  {
   "cell_type": "code",
   "execution_count": 6,
   "id": "3bd170db",
   "metadata": {},
   "outputs": [
    {
     "name": "stdout",
     "output_type": "stream",
     "text": [
      "1\n",
      "[]\n"
     ]
    }
   ],
   "source": [
    "f = open(\"python.txt\",'r')\n",
    "n1=int(input())\n",
    "lines = f.readlines()\n",
    "last_lines = lines[-n1:]\n",
    "\n",
    "print(last_lines)"
   ]
  },
  {
   "cell_type": "code",
   "execution_count": null,
   "id": "9f8f27f7",
   "metadata": {},
   "outputs": [],
   "source": []
  },
  {
   "cell_type": "code",
   "execution_count": null,
   "id": "563652b0",
   "metadata": {},
   "outputs": [],
   "source": []
  }
 ],
 "metadata": {
  "kernelspec": {
   "display_name": "Python 3",
   "language": "python",
   "name": "python3"
  },
  "language_info": {
   "codemirror_mode": {
    "name": "ipython",
    "version": 3
   },
   "file_extension": ".py",
   "mimetype": "text/x-python",
   "name": "python",
   "nbconvert_exporter": "python",
   "pygments_lexer": "ipython3",
   "version": "3.8.8"
  }
 },
 "nbformat": 4,
 "nbformat_minor": 5
}
